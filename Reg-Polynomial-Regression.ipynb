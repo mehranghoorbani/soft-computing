{
 "cells": [
  {
   "cell_type": "markdown",
   "metadata": {
    "button": false,
    "new_sheet": false,
    "run_control": {
     "read_only": false
    }
   },
   "source": [
    "<center>\n",
    "    <img src=\"https://cf-courses-data.s3.us.cloud-object-storage.appdomain.cloud/IBMDeveloperSkillsNetwork-ML0101EN-SkillsNetwork/labs/Module%202/images/IDSNlogo.png\" width=\"300\" alt=\"cognitiveclass.ai logo\"  />\n",
    "</center>\n",
    "\n",
    "# Polynomial Regression\n",
    "\n",
    "Estimated time needed: **15** minutes\n",
    "\n",
    "## Objectives\n",
    "\n",
    "After completing this lab you will be able to:\n",
    "\n",
    "*   Use scikit-learn to implement Polynomial Regression\n",
    "*   Create a model, train it, test it and use the model\n"
   ]
  },
  {
   "cell_type": "markdown",
   "metadata": {
    "button": false,
    "new_sheet": false,
    "run_control": {
     "read_only": false
    }
   },
   "source": [
    "### Importing Needed packages\n"
   ]
  },
  {
   "cell_type": "code",
   "execution_count": 1,
   "metadata": {
    "button": false,
    "new_sheet": false,
    "run_control": {
     "read_only": false
    }
   },
   "outputs": [],
   "source": [
    "import matplotlib.pyplot as plt\n",
    "import pandas as pd\n",
    "import pylab as pl\n",
    "import numpy as np\n",
    "%matplotlib inline"
   ]
  },
  {
   "cell_type": "markdown",
   "metadata": {
    "button": false,
    "new_sheet": false,
    "run_control": {
     "read_only": false
    }
   },
   "source": [
    "## Reading the data in\n"
   ]
  },
  {
   "cell_type": "code",
   "execution_count": 2,
   "metadata": {
    "button": false,
    "new_sheet": false,
    "run_control": {
     "read_only": false
    }
   },
   "outputs": [
    {
     "data": {
      "text/html": [
       "<div>\n",
       "<style scoped>\n",
       "    .dataframe tbody tr th:only-of-type {\n",
       "        vertical-align: middle;\n",
       "    }\n",
       "\n",
       "    .dataframe tbody tr th {\n",
       "        vertical-align: top;\n",
       "    }\n",
       "\n",
       "    .dataframe thead th {\n",
       "        text-align: right;\n",
       "    }\n",
       "</style>\n",
       "<table border=\"1\" class=\"dataframe\">\n",
       "  <thead>\n",
       "    <tr style=\"text-align: right;\">\n",
       "      <th></th>\n",
       "      <th>x</th>\n",
       "      <th>y</th>\n",
       "    </tr>\n",
       "  </thead>\n",
       "  <tbody>\n",
       "    <tr>\n",
       "      <th>0</th>\n",
       "      <td>276.48</td>\n",
       "      <td>262.363576</td>\n",
       "    </tr>\n",
       "    <tr>\n",
       "      <th>1</th>\n",
       "      <td>257.45</td>\n",
       "      <td>223.062939</td>\n",
       "    </tr>\n",
       "    <tr>\n",
       "      <th>2</th>\n",
       "      <td>210.74</td>\n",
       "      <td>120.046367</td>\n",
       "    </tr>\n",
       "    <tr>\n",
       "      <th>3</th>\n",
       "      <td>297.24</td>\n",
       "      <td>315.412869</td>\n",
       "    </tr>\n",
       "    <tr>\n",
       "      <th>4</th>\n",
       "      <td>292.05</td>\n",
       "      <td>316.521822</td>\n",
       "    </tr>\n",
       "  </tbody>\n",
       "</table>\n",
       "</div>"
      ],
      "text/plain": [
       "        x           y\n",
       "0  276.48  262.363576\n",
       "1  257.45  223.062939\n",
       "2  210.74  120.046367\n",
       "3  297.24  315.412869\n",
       "4  292.05  316.521822"
      ]
     },
     "execution_count": 2,
     "metadata": {},
     "output_type": "execute_result"
    }
   ],
   "source": [
    "df = pd.read_csv(\"Dataset.csv\")\n",
    "\n",
    "# take a look at the dataset\n",
    "df.head()"
   ]
  },
  {
   "cell_type": "markdown",
   "metadata": {},
   "source": [
    "Let's select some features that we want to use for regression.\n"
   ]
  },
  {
   "cell_type": "code",
   "execution_count": 3,
   "metadata": {
    "button": false,
    "new_sheet": false,
    "run_control": {
     "read_only": false
    }
   },
   "outputs": [
    {
     "data": {
      "text/html": [
       "<div>\n",
       "<style scoped>\n",
       "    .dataframe tbody tr th:only-of-type {\n",
       "        vertical-align: middle;\n",
       "    }\n",
       "\n",
       "    .dataframe tbody tr th {\n",
       "        vertical-align: top;\n",
       "    }\n",
       "\n",
       "    .dataframe thead th {\n",
       "        text-align: right;\n",
       "    }\n",
       "</style>\n",
       "<table border=\"1\" class=\"dataframe\">\n",
       "  <thead>\n",
       "    <tr style=\"text-align: right;\">\n",
       "      <th></th>\n",
       "      <th>x</th>\n",
       "      <th>y</th>\n",
       "    </tr>\n",
       "  </thead>\n",
       "  <tbody>\n",
       "    <tr>\n",
       "      <th>0</th>\n",
       "      <td>276.48</td>\n",
       "      <td>262.363576</td>\n",
       "    </tr>\n",
       "    <tr>\n",
       "      <th>1</th>\n",
       "      <td>257.45</td>\n",
       "      <td>223.062939</td>\n",
       "    </tr>\n",
       "    <tr>\n",
       "      <th>2</th>\n",
       "      <td>210.74</td>\n",
       "      <td>120.046367</td>\n",
       "    </tr>\n",
       "    <tr>\n",
       "      <th>3</th>\n",
       "      <td>297.24</td>\n",
       "      <td>315.412869</td>\n",
       "    </tr>\n",
       "    <tr>\n",
       "      <th>4</th>\n",
       "      <td>292.05</td>\n",
       "      <td>316.521822</td>\n",
       "    </tr>\n",
       "    <tr>\n",
       "      <th>5</th>\n",
       "      <td>202.09</td>\n",
       "      <td>98.785477</td>\n",
       "    </tr>\n",
       "    <tr>\n",
       "      <th>6</th>\n",
       "      <td>136.35</td>\n",
       "      <td>43.146528</td>\n",
       "    </tr>\n",
       "    <tr>\n",
       "      <th>7</th>\n",
       "      <td>67.15</td>\n",
       "      <td>7.108156</td>\n",
       "    </tr>\n",
       "    <tr>\n",
       "      <th>8</th>\n",
       "      <td>214.20</td>\n",
       "      <td>123.376914</td>\n",
       "    </tr>\n",
       "  </tbody>\n",
       "</table>\n",
       "</div>"
      ],
      "text/plain": [
       "        x           y\n",
       "0  276.48  262.363576\n",
       "1  257.45  223.062939\n",
       "2  210.74  120.046367\n",
       "3  297.24  315.412869\n",
       "4  292.05  316.521822\n",
       "5  202.09   98.785477\n",
       "6  136.35   43.146528\n",
       "7   67.15    7.108156\n",
       "8  214.20  123.376914"
      ]
     },
     "execution_count": 3,
     "metadata": {},
     "output_type": "execute_result"
    }
   ],
   "source": [
    "cdf = df[['x','y']]\n",
    "cdf.head(9)"
   ]
  },
  {
   "cell_type": "markdown",
   "metadata": {},
   "source": [
    "Let's plot Emission values with respect to Engine size:\n"
   ]
  },
  {
   "cell_type": "code",
   "execution_count": 4,
   "metadata": {
    "button": false,
    "new_sheet": false,
    "run_control": {
     "read_only": false
    },
    "scrolled": true
   },
   "outputs": [
    {
     "data": {
      "image/png": "[encoded data removed]",
      "text/plain": [
       "<Figure size 640x480 with 1 Axes>"
      ]
     },
     "metadata": {},
     "output_type": "display_data"
    }
   ],
   "source": [
    "plt.scatter(cdf.x, cdf.y,  color='blue')\n",
    "plt.xlabel(\"X\")\n",
    "plt.ylabel(\"f(x)\")\n",
    "plt.show()"
   ]
  },
  {
   "cell_type": "markdown",
   "metadata": {
    "button": false,
    "new_sheet": false,
    "run_control": {
     "read_only": false
    }
   },
   "source": [
    "#### Creating train and test dataset\n",
    "\n",
    "Train/Test Split involves splitting the dataset into training and testing sets respectively, which are mutually exclusive. After which, you train with the training set and test with the testing set.\n"
   ]
  },
  {
   "cell_type": "code",
   "execution_count": 5,
   "metadata": {
    "button": false,
    "new_sheet": false,
    "run_control": {
     "read_only": false
    }
   },
   "outputs": [
    {
     "name": "stdout",
     "output_type": "stream",
     "text": [
      "125\n",
      "25\n"
     ]
    },
    {
     "data": {
      "text/html": [
       "<div>\n",
       "<style scoped>\n",
       "    .dataframe tbody tr th:only-of-type {\n",
       "        vertical-align: middle;\n",
       "    }\n",
       "\n",
       "    .dataframe tbody tr th {\n",
       "        vertical-align: top;\n",
       "    }\n",
       "\n",
       "    .dataframe thead th {\n",
       "        text-align: right;\n",
       "    }\n",
       "</style>\n",
       "<table border=\"1\" class=\"dataframe\">\n",
       "  <thead>\n",
       "    <tr style=\"text-align: right;\">\n",
       "      <th></th>\n",
       "      <th>x</th>\n",
       "      <th>y</th>\n",
       "    </tr>\n",
       "  </thead>\n",
       "  <tbody>\n",
       "    <tr>\n",
       "      <th>0</th>\n",
       "      <td>276.48</td>\n",
       "      <td>262.363576</td>\n",
       "    </tr>\n",
       "    <tr>\n",
       "      <th>1</th>\n",
       "      <td>257.45</td>\n",
       "      <td>223.062939</td>\n",
       "    </tr>\n",
       "    <tr>\n",
       "      <th>2</th>\n",
       "      <td>210.74</td>\n",
       "      <td>120.046367</td>\n",
       "    </tr>\n",
       "    <tr>\n",
       "      <th>3</th>\n",
       "      <td>297.24</td>\n",
       "      <td>315.412869</td>\n",
       "    </tr>\n",
       "    <tr>\n",
       "      <th>5</th>\n",
       "      <td>202.09</td>\n",
       "      <td>98.785477</td>\n",
       "    </tr>\n",
       "    <tr>\n",
       "      <th>...</th>\n",
       "      <td>...</td>\n",
       "      <td>...</td>\n",
       "    </tr>\n",
       "    <tr>\n",
       "      <th>144</th>\n",
       "      <td>46.39</td>\n",
       "      <td>-0.536697</td>\n",
       "    </tr>\n",
       "    <tr>\n",
       "      <th>145</th>\n",
       "      <td>267.83</td>\n",
       "      <td>221.629046</td>\n",
       "    </tr>\n",
       "    <tr>\n",
       "      <th>146</th>\n",
       "      <td>177.87</td>\n",
       "      <td>70.114323</td>\n",
       "    </tr>\n",
       "    <tr>\n",
       "      <th>147</th>\n",
       "      <td>49.85</td>\n",
       "      <td>4.157175</td>\n",
       "    </tr>\n",
       "    <tr>\n",
       "      <th>148</th>\n",
       "      <td>117.32</td>\n",
       "      <td>23.418038</td>\n",
       "    </tr>\n",
       "  </tbody>\n",
       "</table>\n",
       "<p>125 rows × 2 columns</p>\n",
       "</div>"
      ],
      "text/plain": [
       "          x           y\n",
       "0    276.48  262.363576\n",
       "1    257.45  223.062939\n",
       "2    210.74  120.046367\n",
       "3    297.24  315.412869\n",
       "5    202.09   98.785477\n",
       "..      ...         ...\n",
       "144   46.39   -0.536697\n",
       "145  267.83  221.629046\n",
       "146  177.87   70.114323\n",
       "147   49.85    4.157175\n",
       "148  117.32   23.418038\n",
       "\n",
       "[125 rows x 2 columns]"
      ]
     },
     "execution_count": 5,
     "metadata": {},
     "output_type": "execute_result"
    }
   ],
   "source": [
    "msk = np.random.rand(len(df)) < 0.8\n",
    "train = cdf[msk]\n",
    "test = cdf[~msk]\n",
    "print(len(train))\n",
    "print(len(test))\n",
    "train"
   ]
  },
  {
   "cell_type": "markdown",
   "metadata": {
    "button": false,
    "new_sheet": false,
    "run_control": {
     "read_only": false
    }
   },
   "source": [
    "<h2 id=\"polynomial_regression\">Polynomial regression</h2>\n"
   ]
  },
  {
   "cell_type": "markdown",
   "metadata": {
    "button": false,
    "new_sheet": false,
    "run_control": {
     "read_only": false
    }
   },
   "source": [
    "Sometimes, the trend of data is not really linear, and looks curvy. In this case we can use Polynomial regression methods. In fact, many different regressions exist that can be used to fit whatever the dataset looks like, such as quadratic, cubic, and so on, and it can go on and on to infinite degrees.\n",
    "\n",
    "In essence, we can call all of these, polynomial regression, where the relationship between the independent variable x and the dependent variable y is modeled as an nth degree polynomial in x. Lets say you want to have a polynomial regression (let's make 2 degree polynomial):\n",
    "\n",
    "$$y = b + \\theta\\_1  x + \\theta\\_2 x^2$$\n",
    "\n",
    "Now, the question is: how we can fit our data on this equation while we have only x values?\n",
    "Well, we can create a few additional features: 1, $x$, and $x^2$.\n",
    "\n",
    "**PolynomialFeatures()** function in Scikit-learn library, drives a new feature sets from the original feature set. That is, a matrix will be generated consisting of all polynomial combinations of the features with degree less than or equal to the specified degree. For example, lets say the original feature set has only one feature, *ENGINESIZE*. Now, if we select the degree of the polynomial to be 2, then it generates 3 features, degree=0, degree=1 and degree=2:\n"
   ]
  },
  {
   "cell_type": "code",
   "execution_count": 6,
   "metadata": {
    "button": false,
    "new_sheet": false,
    "run_control": {
     "read_only": false
    }
   },
   "outputs": [
    {
     "data": {
      "text/plain": [
       "array([[1.00000000e+00, 2.76480000e+02, 7.64411904e+04],\n",
       "       [1.00000000e+00, 2.57450000e+02, 6.62805025e+04],\n",
       "       [1.00000000e+00, 2.10740000e+02, 4.44113476e+04],\n",
       "       [1.00000000e+00, 2.97240000e+02, 8.83516176e+04],\n",
       "       [1.00000000e+00, 2.02090000e+02, 4.08403681e+04],\n",
       "       [1.00000000e+00, 1.36350000e+02, 1.85913225e+04],\n",
       "       [1.00000000e+00, 6.71500000e+01, 4.50912250e+03],\n",
       "       [1.00000000e+00, 2.14200000e+02, 4.58816400e+04],\n",
       "       [1.00000000e+00, 2.43610000e+02, 5.93458321e+04],\n",
       "       [1.00000000e+00, 2.79940000e+02, 7.83664036e+04],\n",
       "       [1.00000000e+00, 1.51920000e+02, 2.30796864e+04],\n",
       "       [1.00000000e+00, 9.13700000e+01, 8.34847690e+03],\n",
       "       [1.00000000e+00, 2.55720000e+02, 6.53927184e+04],\n",
       "       [1.00000000e+00, 2.59180000e+02, 6.71742724e+04],\n",
       "       [1.00000000e+00, 9.31000000e+01, 8.66761000e+03],\n",
       "       [1.00000000e+00, 1.41540000e+02, 2.00335716e+04],\n",
       "       [1.00000000e+00, 1.48460000e+02, 2.20403716e+04],\n",
       "       [1.00000000e+00, 2.62640000e+02, 6.89797696e+04],\n",
       "       [1.00000000e+00, 1.19050000e+02, 1.41729025e+04],\n",
       "       [1.00000000e+00, 1.88250000e+02, 3.54380625e+04],\n",
       "       [1.00000000e+00, 1.57110000e+02, 2.46835521e+04],\n",
       "       [1.00000000e+00, 1.70950000e+02, 2.92239025e+04],\n",
       "       [1.00000000e+00, 2.73020000e+02, 7.45399204e+04],\n",
       "       [1.00000000e+00, 2.41880000e+02, 5.85059344e+04],\n",
       "       [1.00000000e+00, 1.03480000e+02, 1.07081104e+04],\n",
       "       [1.00000000e+00, 1.98630000e+02, 3.94538769e+04],\n",
       "       [1.00000000e+00, 6.36900000e+01, 4.05641610e+03],\n",
       "       [1.00000000e+00, 1.95170000e+02, 3.80913289e+04],\n",
       "       [1.00000000e+00, 6.54200000e+01, 4.27977640e+03],\n",
       "       [1.00000000e+00, 2.33230000e+02, 5.43962329e+04],\n",
       "       [1.00000000e+00, 2.48800000e+02, 6.19014400e+04],\n",
       "       [1.00000000e+00, 6.02300000e+01, 3.62765290e+03],\n",
       "       [1.00000000e+00, 8.96400000e+01, 8.03532960e+03],\n",
       "       [1.00000000e+00, 7.92600000e+01, 6.28214760e+03],\n",
       "       [1.00000000e+00, 2.38420000e+02, 5.68440964e+04],\n",
       "       [1.00000000e+00, 2.60910000e+02, 6.80740281e+04],\n",
       "       [1.00000000e+00, 2.93780000e+02, 8.63066884e+04],\n",
       "       [1.00000000e+00, 2.05550000e+02, 4.22508025e+04],\n",
       "       [1.00000000e+00, 1.72680000e+02, 2.98183824e+04],\n",
       "       [1.00000000e+00, 2.17660000e+02, 4.73758756e+04],\n",
       "       [1.00000000e+00, 2.24580000e+02, 5.04361764e+04],\n",
       "       [1.00000000e+00, 4.12000000e+01, 1.69744000e+03],\n",
       "       [1.00000000e+00, 1.83060000e+02, 3.35109636e+04],\n",
       "       [1.00000000e+00, 1.22510000e+02, 1.50087001e+04],\n",
       "       [1.00000000e+00, 8.79100000e+01, 7.72816810e+03],\n",
       "       [1.00000000e+00, 2.31500000e+02, 5.35922500e+04],\n",
       "       [1.00000000e+00, 1.76140000e+02, 3.10252996e+04],\n",
       "       [1.00000000e+00, 1.06940000e+02, 1.14361636e+04],\n",
       "       [1.00000000e+00, 5.85000000e+01, 3.42225000e+03],\n",
       "       [1.00000000e+00, 2.36690000e+02, 5.60221561e+04],\n",
       "       [1.00000000e+00, 1.08670000e+02, 1.18091689e+04],\n",
       "       [1.00000000e+00, 1.10400000e+02, 1.21881600e+04],\n",
       "       [1.00000000e+00, 9.48300000e+01, 8.99272890e+03],\n",
       "       [1.00000000e+00, 2.53990000e+02, 6.45109201e+04],\n",
       "       [1.00000000e+00, 8.44500000e+01, 7.13180250e+03],\n",
       "       [1.00000000e+00, 9.82900000e+01, 9.66092410e+03],\n",
       "       [1.00000000e+00, 6.19600000e+01, 3.83904160e+03],\n",
       "       [1.00000000e+00, 1.25970000e+02, 1.58684409e+04],\n",
       "       [1.00000000e+00, 2.26310000e+02, 5.12162161e+04],\n",
       "       [1.00000000e+00, 1.62300000e+02, 2.63412900e+04],\n",
       "       [1.00000000e+00, 1.84790000e+02, 3.41473441e+04],\n",
       "       [1.00000000e+00, 1.39810000e+02, 1.95468361e+04],\n",
       "       [1.00000000e+00, 4.29300000e+01, 1.84298490e+03],\n",
       "       [1.00000000e+00, 1.27700000e+02, 1.63072900e+04],\n",
       "       [1.00000000e+00, 2.69560000e+02, 7.26625936e+04],\n",
       "       [1.00000000e+00, 1.45000000e+02, 2.10250000e+04],\n",
       "       [1.00000000e+00, 1.58840000e+02, 2.52301456e+04],\n",
       "       [1.00000000e+00, 1.74410000e+02, 3.04188481e+04],\n",
       "       [1.00000000e+00, 1.91710000e+02, 3.67527241e+04],\n",
       "       [1.00000000e+00, 1.86520000e+02, 3.47897104e+04],\n",
       "       [1.00000000e+00, 2.03820000e+02, 4.15425924e+04],\n",
       "       [1.00000000e+00, 2.85130000e+02, 8.12991169e+04],\n",
       "       [1.00000000e+00, 1.69220000e+02, 2.86354084e+04],\n",
       "       [1.00000000e+00, 2.09010000e+02, 4.36851801e+04],\n",
       "       [1.00000000e+00, 2.15930000e+02, 4.66257649e+04],\n",
       "       [1.00000000e+00, 2.50530000e+02, 6.27652809e+04],\n",
       "       [1.00000000e+00, 6.88800000e+01, 4.74445440e+03],\n",
       "       [1.00000000e+00, 2.19390000e+02, 4.81319721e+04],\n",
       "       [1.00000000e+00, 1.64030000e+02, 2.69058409e+04],\n",
       "       [1.00000000e+00, 7.06100000e+01, 4.98577210e+03],\n",
       "       [1.00000000e+00, 2.47070000e+02, 6.10435849e+04],\n",
       "       [1.00000000e+00, 1.89980000e+02, 3.60924004e+04],\n",
       "       [1.00000000e+00, 2.83400000e+02, 8.03155600e+04],\n",
       "       [1.00000000e+00, 1.24240000e+02, 1.54355776e+04],\n",
       "       [1.00000000e+00, 2.45340000e+02, 6.01917156e+04],\n",
       "       [1.00000000e+00, 2.52260000e+02, 6.36351076e+04],\n",
       "       [1.00000000e+00, 2.88590000e+02, 8.32841881e+04],\n",
       "       [1.00000000e+00, 1.34620000e+02, 1.81225444e+04],\n",
       "       [1.00000000e+00, 2.00360000e+02, 4.01441296e+04],\n",
       "       [1.00000000e+00, 2.21120000e+02, 4.88940544e+04],\n",
       "       [1.00000000e+00, 5.50400000e+01, 3.02940160e+03],\n",
       "       [1.00000000e+00, 7.58000000e+01, 5.74564000e+03],\n",
       "       [1.00000000e+00, 2.64370000e+02, 6.98914969e+04],\n",
       "       [1.00000000e+00, 5.67700000e+01, 3.22283290e+03],\n",
       "       [1.00000000e+00, 9.65600000e+01, 9.32383360e+03],\n",
       "       [1.00000000e+00, 1.79600000e+02, 3.22561600e+04],\n",
       "       [1.00000000e+00, 2.81670000e+02, 7.93379889e+04],\n",
       "       [1.00000000e+00, 1.38080000e+02, 1.90660864e+04],\n",
       "       [1.00000000e+00, 1.96900000e+02, 3.87696100e+04],\n",
       "       [1.00000000e+00, 1.81330000e+02, 3.28805689e+04],\n",
       "       [1.00000000e+00, 2.66100000e+02, 7.08092100e+04],\n",
       "       [1.00000000e+00, 2.34960000e+02, 5.52062016e+04],\n",
       "       [1.00000000e+00, 1.60570000e+02, 2.57827249e+04],\n",
       "       [1.00000000e+00, 2.28040000e+02, 5.20022416e+04],\n",
       "       [1.00000000e+00, 2.40150000e+02, 5.76720225e+04],\n",
       "       [1.00000000e+00, 2.98970000e+02, 8.93830609e+04],\n",
       "       [1.00000000e+00, 2.95510000e+02, 8.73261601e+04],\n",
       "       [1.00000000e+00, 1.53650000e+02, 2.36083225e+04],\n",
       "       [1.00000000e+00, 2.07280000e+02, 4.29649984e+04],\n",
       "       [1.00000000e+00, 7.75300000e+01, 6.01090090e+03],\n",
       "       [1.00000000e+00, 8.61800000e+01, 7.42699240e+03],\n",
       "       [1.00000000e+00, 1.50190000e+02, 2.25570361e+04],\n",
       "       [1.00000000e+00, 7.23400000e+01, 5.23307560e+03],\n",
       "       [1.00000000e+00, 1.29430000e+02, 1.67521249e+04],\n",
       "       [1.00000000e+00, 5.33100000e+01, 2.84195610e+03],\n",
       "       [1.00000000e+00, 1.67490000e+02, 2.80529001e+04],\n",
       "       [1.00000000e+00, 1.05210000e+02, 1.10691441e+04],\n",
       "       [1.00000000e+00, 4.46600000e+01, 1.99451560e+03],\n",
       "       [1.00000000e+00, 1.15590000e+02, 1.33610481e+04],\n",
       "       [1.00000000e+00, 2.90320000e+02, 8.42857024e+04],\n",
       "       [1.00000000e+00, 4.63900000e+01, 2.15203210e+03],\n",
       "       [1.00000000e+00, 2.67830000e+02, 7.17329089e+04],\n",
       "       [1.00000000e+00, 1.77870000e+02, 3.16377369e+04],\n",
       "       [1.00000000e+00, 4.98500000e+01, 2.48502250e+03],\n",
       "       [1.00000000e+00, 1.17320000e+02, 1.37639824e+04]])"
      ]
     },
     "execution_count": 6,
     "metadata": {},
     "output_type": "execute_result"
    }
   ],
   "source": [
    "from sklearn.preprocessing import PolynomialFeatures\n",
    "from sklearn import linear_model\n",
    "train_x = np.asanyarray(train[['x']])\n",
    "train_y = np.asanyarray(train[['y']])\n",
    "\n",
    "test_x = np.asanyarray(test[['x']])\n",
    "test_y = np.asanyarray(test[['y']])\n",
    "\n",
    "\n",
    "poly = PolynomialFeatures(degree=2)\n",
    "train_x_poly = poly.fit_transform(train_x)\n",
    "train_x_poly"
   ]
  },
  {
   "cell_type": "markdown",
   "metadata": {},
   "source": [
    "**fit_transform** takes our x values, and output a list of our data raised from power of 0 to power of 2 (since we set the degree of our polynomial to 2).\n",
    "\n",
    "The equation and the sample example is displayed below.\n",
    "\n",
    "$$\n",
    "\\begin{bmatrix}\n",
    "v\\_1\\\\\\\\\n",
    "v\\_2\\\\\\\\\n",
    "\\vdots\\\\\\\\\n",
    "v_n\n",
    "\\end{bmatrix}\\longrightarrow \\begin{bmatrix}\n",
    "\\[ 1 & v\\_1 & v\\_1^2]\\\\\\\\\n",
    "\\[ 1 & v\\_2 & v\\_2^2]\\\\\\\\\n",
    "\\vdots & \\vdots & \\vdots\\\\\\\\\n",
    "\\[ 1 & v_n & v_n^2]\n",
    "\\end{bmatrix}\n",
    "$$\n",
    "\n",
    "$$\n",
    "\\begin{bmatrix}\n",
    "2.\\\\\\\\\n",
    "2.4\\\\\\\\\n",
    "1.5\\\\\\\\\n",
    "\\vdots\n",
    "\\end{bmatrix} \\longrightarrow \\begin{bmatrix}\n",
    "\\[ 1 & 2. & 4.]\\\\\\\\\n",
    "\\[ 1 & 2.4 & 5.76]\\\\\\\\\n",
    "\\[ 1 & 1.5 & 2.25]\\\\\\\\\n",
    "\\vdots & \\vdots & \\vdots\\\\\\\\\n",
    "\\end{bmatrix}\n",
    "$$\n"
   ]
  },
  {
   "cell_type": "markdown",
   "metadata": {},
   "source": [
    "It looks like feature sets for multiple linear regression analysis, right? Yes. It Does.\n",
    "Indeed, Polynomial regression is a special case of linear regression, with the main idea of how do you select your features. Just consider replacing the  $x$ with $x\\_1$, $x\\_1^2$ with $x\\_2$, and so on. Then the degree 2 equation would be turn into:\n",
    "\n",
    "$$y = b + \\theta\\_1  x\\_1 + \\theta\\_2 x\\_2$$\n",
    "\n",
    "Now, we can deal with it as 'linear regression' problem. Therefore, this polynomial regression is considered to be a special case of traditional multiple linear regression. So, you can use the same mechanism as linear regression to solve such a problems.\n",
    "\n",
    "so we can use **LinearRegression()** function to solve it:\n"
   ]
  },
  {
   "cell_type": "code",
   "execution_count": 7,
   "metadata": {
    "button": false,
    "new_sheet": false,
    "run_control": {
     "read_only": false
    }
   },
   "outputs": [
    {
     "name": "stdout",
     "output_type": "stream",
     "text": [
      "Coefficients:  [[ 0.         -0.87900661  0.00598606]]\n",
      "Intercept:  [39.71858529]\n"
     ]
    }
   ],
   "source": [
    "clf = linear_model.LinearRegression()\n",
    "train_y_ = clf.fit(train_x_poly, train_y)\n",
    "# The coefficients\n",
    "print ('Coefficients: ', clf.coef_)\n",
    "print ('Intercept: ',clf.intercept_)"
   ]
  },
  {
   "cell_type": "markdown",
   "metadata": {},
   "source": [
    "As mentioned before, **Coefficient** and **Intercept** , are the parameters of the fit curvy line.\n",
    "Given that it is a typical multiple linear regression, with 3 parameters, and knowing that the parameters are the intercept and coefficients of hyperplane, sklearn has estimated them from our new set of feature sets. Lets plot it:\n"
   ]
  },
  {
   "cell_type": "code",
   "execution_count": 8,
   "metadata": {},
   "outputs": [
    {
     "data": {
      "text/plain": [
       "Text(0, 0.5, 'y')"
      ]
     },
     "execution_count": 8,
     "metadata": {},
     "output_type": "execute_result"
    },
    {
     "data": {
      "image/png": "[encoded data removed]",
      "text/plain": [
       "<Figure size 640x480 with 1 Axes>"
      ]
     },
     "metadata": {},
     "output_type": "display_data"
    }
   ],
   "source": [
    "plt.scatter(train.x, train.y,  color='blue')\n",
    "XX = np.arange(40, 310, 0.1)\n",
    "yy = clf.intercept_[0]+ clf.coef_[0][1]*XX+ clf.coef_[0][2]*np.power(XX, 2)\n",
    "plt.plot(XX, yy, '-r' )\n",
    "plt.xlabel(\"x\")\n",
    "plt.ylabel(\"y\")"
   ]
  },
  {
   "cell_type": "markdown",
   "metadata": {
    "button": false,
    "new_sheet": false,
    "run_control": {
     "read_only": false
    }
   },
   "source": [
    "<h2 id=\"evaluation\">Evaluation</h2>\n"
   ]
  },
  {
   "cell_type": "code",
   "execution_count": 9,
   "metadata": {},
   "outputs": [
    {
     "name": "stdout",
     "output_type": "stream",
     "text": [
      "Mean absolute error: 11.33\n",
      "Residual sum of squares (MSE): 218.38\n",
      "R2-score: 0.98\n"
     ]
    }
   ],
   "source": [
    "from sklearn.metrics import r2_score\n",
    "\n",
    "test_x_poly = poly.fit_transform(test_x)\n",
    "test_y_ = clf.predict(test_x_poly)\n",
    "\n",
    "print(\"Mean absolute error: %.2f\" % np.mean(np.absolute(test_y_ - test_y)))\n",
    "print(\"Residual sum of squares (MSE): %.2f\" % np.mean((test_y_ - test_y) ** 2))\n",
    "print(\"R2-score: %.2f\" % r2_score(test_y,test_y_ ) )"
   ]
  },
  {
   "cell_type": "markdown",
   "metadata": {},
   "source": [
    "<h2 id=\"practice\">Practice</h2>\n",
    "Try to use a polynomial regression with the dataset but this time with degree three (cubic). Does it result in better accuracy?\n"
   ]
  },
  {
   "cell_type": "code",
   "execution_count": 10,
   "metadata": {},
   "outputs": [
    {
     "name": "stdout",
     "output_type": "stream",
     "text": [
      "Coefficients:  [[ 0.00000000e+00  3.30036253e-01 -2.03788666e-03  1.56949592e-05]]\n",
      "Intercept:  [-10.6128216]\n",
      "Mean absolute error: 8.96\n",
      "Residual sum of squares (MSE): 168.26\n",
      "R2-score: 0.98\n"
     ]
    },
    {
     "data": {
      "image/png": "[encoded data removed]",
      "text/plain": [
       "<Figure size 640x480 with 1 Axes>"
      ]
     },
     "metadata": {},
     "output_type": "display_data"
    }
   ],
   "source": [
    "poly3 = PolynomialFeatures(degree=3)\n",
    "train_x_poly3 = poly3.fit_transform(train_x)\n",
    "clf3 = linear_model.LinearRegression()\n",
    "train_y3_ = clf3.fit(train_x_poly3, train_y)\n",
    "\n",
    "# The coefficients\n",
    "print ('Coefficients: ', clf3.coef_)\n",
    "print ('Intercept: ',clf3.intercept_)\n",
    "plt.scatter(train.x, train.y,  color='blue')\n",
    "XX = np.arange(40.0, 300.0, 0.1)\n",
    "yy = clf3.intercept_[0]+ clf3.coef_[0][1]*XX + clf3.coef_[0][2]*np.power(XX, 2) + clf3.coef_[0][3]*np.power(XX, 3)\n",
    "plt.plot(XX, yy, '-r' )\n",
    "plt.xlabel(\"X\")\n",
    "plt.ylabel(\"f(x)\")\n",
    "test_x_poly3 = poly3.fit_transform(test_x)\n",
    "test_y3_ = clf3.predict(test_x_poly3)\n",
    "print(\"Mean absolute error: %.2f\" % np.mean(np.absolute(test_y3_ - test_y)))\n",
    "print(\"Residual sum of squares (MSE): %.2f\" % np.mean((test_y3_ - test_y) ** 2))\n",
    "print(\"R2-score: %.2f\" % r2_score(test_y,test_y3_ ) )"
   ]
  },
  {
   "cell_type": "markdown",
   "metadata": {},
   "source": [
    "<h2>Want to learn more?</h2>\n",
    "\n",
    "IBM SPSS Modeler is a comprehensive analytics platform that has many machine learning algorithms. It has been designed to bring predictive intelligence to decisions made by individuals, by groups, by systems – by your enterprise as a whole. A free trial is available through this course, available here: <a href=\"https://www.ibm.com/analytics/spss-statistics-software?utm_medium=Exinfluencer&utm_source=Exinfluencer&utm_content=000026UJ&utm_term=10006555&utm_id=NA-SkillsNetwork-Channel-SkillsNetworkCoursesIBMDeveloperSkillsNetworkML0101ENSkillsNetwork20718538-2021-01-01\">SPSS Modeler</a>\n",
    "\n",
    "Also, you can use Watson Studio to run these notebooks faster with bigger datasets. Watson Studio is IBM's leading cloud solution for data scientists, built by data scientists. With Jupyter notebooks, RStudio, Apache Spark and popular libraries pre-packaged in the cloud, Watson Studio enables data scientists to collaborate on their projects without having to install anything. Join the fast-growing community of Watson Studio users today with a free account at <a href=\"https://www.ibm.com/cloud/watson-studio?utm_medium=Exinfluencer&utm_source=Exinfluencer&utm_content=000026UJ&utm_term=10006555&utm_id=NA-SkillsNetwork-Channel-SkillsNetworkCoursesIBMDeveloperSkillsNetworkML0101ENSkillsNetwork20718538-2021-01-01\">Watson Studio</a>\n"
   ]
  },
  {
   "cell_type": "markdown",
   "metadata": {},
   "source": [
    "### Thank you for completing this lab!\n",
    "\n",
    "## Author\n",
    "\n",
    "Saeed Aghabozorgi\n",
    "\n",
    "### Other Contributors\n",
    "\n",
    "<a href=\"https://www.linkedin.com/in/joseph-s-50398b136/?utm_medium=Exinfluencer&utm_source=Exinfluencer&utm_content=000026UJ&utm_term=10006555&utm_id=NA-SkillsNetwork-Channel-SkillsNetworkCoursesIBMDeveloperSkillsNetworkML0101ENSkillsNetwork20718538-2021-01-01\" target=\"_blank\">Joseph Santarcangelo</a>\n",
    "\n",
    "## Change Log\n",
    "\n",
    "|  Date (YYYY-MM-DD) |  Version | Changed By  |  Change Description |\n",
    "|---|---|---|---|\n",
    "| 2021-01-11  | 2.3  | Lakshmi  |  Changed R2-score calculation in polynomial regression |\n",
    "| 2020-11-04  | 2.2  | Lakshmi  |  Made changes in markdown of equations |\n",
    "| 2020-11-03  | 2.1  | Lakshmi  |  Made changes in URL |\n",
    "| 2020-08-27  | 2.0  | Lavanya  |  Moved lab to course repo in GitLab |\n",
    "|   |   |   |   |\n",
    "|   |   |   |   |\n",
    "\n",
    "## <h3 align=\"center\"> © IBM Corporation 2020. All rights reserved. <h3/>\n"
   ]
  }
 ],
 "metadata": {
  "kernelspec": {
   "display_name": "Python 3 (ipykernel)",
   "language": "python",
   "name": "python3"
  },
  "language_info": {
   "codemirror_mode": {
    "name": "ipython",
    "version": 3
   },
   "file_extension": ".py",
   "mimetype": "text/x-python",
   "name": "python",
   "nbconvert_exporter": "python",
   "pygments_lexer": "ipython3",
   "version": "3.9.13"
  },
  "widgets": {
   "state": {},
   "version": "1.1.2"
  }
 },
 "nbformat": 4,
 "nbformat_minor": 2
}
